{
 "cells": [
  {
   "cell_type": "code",
   "execution_count": null,
   "metadata": {},
   "outputs": [],
   "source": [
    "############# liblaryのimport ################\n",
    "import matplotlib.pyplot as plt\n",
    "import aplpy as apl\n",
    "\n",
    "########################################## FITSの読み込み #############################################\n",
    "fig = plt.figure(figsize = (4,4)) # figが台紙のようなものでそこに画像を貼るイメージ # 図の大きさはここで決定する。\n",
    "f1 = apl.FITSFigure('test_test_test.fits', figure=fig, subplot=(1,1,1)) # f1に作成したい図のFITSを読み込ませる\n",
    "\n",
    "######################################## 図の作成(詳細設定) ############################################\n",
    "########## glay scaleにしたい場合 ##########\n",
    "# f1.show_grayscale(invert = 'set_theme',vmin =-0.05 ,vmax=1.5)  # 引数に'set_theme'で色の反転 # MAX/MINの設定はここ\n",
    "########## color scaleにしたい場合 ##########\n",
    "f1.show_colorscale(vmin =0 ,vmax=0.002) # 引数に何も指定しなければ、勝手に調整してくれる。(MAX/MINをとってくれる？) # カラースケールのMAX/MINの設定はここ\n",
    "\n",
    "########## color barの設置 ##########\n",
    "f1.add_colorbar() # 設置の有無\n",
    "# f1.colorbar.set_location('right') # カラーバーの位置、選択肢→(right,left,top,under)\n",
    "# f1.colorbar.set_width(0.2) # カラーバーの幅\n",
    "# f1.colorbar.set_axis_label_text('Intensity (Jy/beam)') # カラーバーのラベルの追加\n",
    "\n",
    "########## 軸ラベル(軸の名前)の設置 ##########\n",
    "# f1.axis_labels.show() #軸ラベルあり\n",
    "f1.axis_labels.hide() #軸ラベルなし\n",
    "# f1.axis_labels.show_x() # X軸ラベルあり\n",
    "# f1.axis_labels.hide_x() # X軸ラベルなし\n",
    "# f1.axis_labels.show_y() # Y軸ラベルあり\n",
    "# f1.axis_labels.hide_y() # Y軸ラベルなし\n",
    "# f1.axis_labels.set_xtext('Right Ascension (J2000)') # X軸ラベルの名称の設定\n",
    "# f1.axis_labels.set_ytext('Declination (J2000)') # Y軸ラベルの名称の設定\n",
    "\n",
    "########## メモリの設置 ##########\n",
    "f1.tick_labels.show() # メモリあり\n",
    "# f1.tick_labels.hide() # メモリなし\n",
    "\n",
    "########## Beamサイズの設置 ##########\n",
    "# f1.add_beam() # beamサイズの有無\n",
    "# f1.beam.set_frame(True) # Beamのフレームの有無\n",
    "# f1.beam.set_color('black') # Beamの色\n",
    "# f1.beam.set_edgecolor('black') # Beamサイズを表示するフレームの色\n",
    "# f1.beam.set_facecolor('black') # フレーム内の色\n",
    "\n",
    "########## ラベル(図内の文字)の設置 ##########\n",
    "# f1.add_label(0.17, 0.95, '(a) observation', relative=True)\n",
    "\n",
    "########## Scale barの設置 ##########\n",
    "# f1.add_scalebar(0.00003) # ()でスケールを設定*この時、FITSによって単位が異なる。大体の場合は、arcsec/degree\n",
    "# f1.scalebar.set_frame(True) # スケールバーを囲むフレームの有無\n",
    "# f1.scalebar.set_label( '0.1\" ') # スケールのラベルの設定\n",
    "# f1.scalebar.set_corner('top right') # どこにスケールバーを置くかを設定\n",
    "\n",
    "########## 図のタイトルの設定 ##########\n",
    "f1.set_title('test') \n",
    "\n",
    "#### Save ####\n",
    "plt.savefig('test.png')"
   ]
  }
 ],
 "metadata": {
  "kernelspec": {
   "display_name": "Python 3",
   "language": "python",
   "name": "python3"
  },
  "language_info": {
   "codemirror_mode": {
    "name": "ipython",
    "version": 3
   },
   "file_extension": ".py",
   "mimetype": "text/x-python",
   "name": "python",
   "nbconvert_exporter": "python",
   "pygments_lexer": "ipython3",
   "version": "3.7.3"
  }
 },
 "nbformat": 4,
 "nbformat_minor": 2
}
